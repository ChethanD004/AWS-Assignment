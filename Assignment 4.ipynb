{
 "cells": [
  {
   "cell_type": "code",
   "execution_count": 1,
   "id": "4c7c1d67",
   "metadata": {},
   "outputs": [
    {
     "name": "stdout",
     "output_type": "stream",
     "text": [
      "Upper case: AMMU\n",
      "Lower case: ammu\n",
      "Capitalized: Ammu\n",
      "Replaced: Ammu\n"
     ]
    }
   ],
   "source": [
    "# Define a string\n",
    "name = \"Ammu\"\n",
    "# Convert to upper case\n",
    "upper_case = name.upper()\n",
    "print(\"Upper case:\", upper_case)\n",
    "\n",
    "# Convert to lower case\n",
    "lower_case = name.lower()\n",
    "print(\"Lower case:\", lower_case)\n",
    "\n",
    "# Capitalize the string\n",
    "capitalized = name.capitalize()\n",
    "print(\"Capitalized:\", capitalized)\n",
    "\n",
    "# Replace 'e' with 'E'\n",
    "replaced = name.replace('e', 'E')\n",
    "print(\"Replaced:\", replaced)\n"
   ]
  },
  {
   "cell_type": "code",
   "execution_count": 2,
   "id": "9640c2a4",
   "metadata": {},
   "outputs": [
    {
     "name": "stdout",
     "output_type": "stream",
     "text": [
      "Extended list: [1, 2, 3, 5, 7]\n"
     ]
    }
   ],
   "source": [
    "# Define a list\n",
    "List = [1, 2, 3]\n",
    "\n",
    "# Extend the list\n",
    "List.extend([5, 6, 7])\n",
    "\n",
    "# Remove the 5th value\n",
    "del List[4]\n",
    "\n",
    "print(\"Extended list:\", List)"
   ]
  },
  {
   "cell_type": "code",
   "execution_count": 5,
   "id": "a3d2b5e7",
   "metadata": {},
   "outputs": [
    {
     "name": "stdout",
     "output_type": "stream",
     "text": [
      "Updated dictionary: {'mango': 15, 'apple': 15, 'grapes': 15}\n"
     ]
    }
   ],
   "source": [
    "# Define a dictionary\n",
    "dict = {'mango': 10, 'banana': 0, 'apple': 15, 'orange': 0, 'grapes': 20}\n",
    "\n",
    "# Remove out of stock fruits (value == 0)\n",
    "out_of_stock = [key for key, value in dict.items() if value == 0]\n",
    "for fruit in out_of_stock:\n",
    "    del dict[fruit]\n",
    "\n",
    "# Update mango quantity to 15 and decrease pineapple by 5\n",
    "dict['mango'] = 15\n",
    "dict['grapes'] -= 5\n",
    "\n",
    "print(\"Updated dictionary:\", dict)"
   ]
  },
  {
   "cell_type": "code",
   "execution_count": 6,
   "id": "afbf29f7",
   "metadata": {},
   "outputs": [
    {
     "name": "stdout",
     "output_type": "stream",
     "text": [
      "[2, 4, 6, 8, 10, 12, 14, 16, 18]\n"
     ]
    }
   ],
   "source": [
    "# Given list\n",
    "a = [2, 4, 6, 8, 10]\n",
    "\n",
    "# Problem 1\n",
    "a += [12, 14, 16, 18]\n",
    "print(a)"
   ]
  },
  {
   "cell_type": "code",
   "execution_count": 7,
   "id": "ba52c129",
   "metadata": {},
   "outputs": [
    {
     "name": "stdout",
     "output_type": "stream",
     "text": [
      "[2, 3, 4, 5, 6, 7, 8, 10]\n"
     ]
    }
   ],
   "source": [
    "# Problem 3\n",
    "a[:] = [2, 3, 4, 5, 6, 7, 8, 10]\n",
    "print(a)"
   ]
  },
  {
   "cell_type": "code",
   "execution_count": 8,
   "id": "7be86818",
   "metadata": {},
   "outputs": [
    {
     "name": "stdout",
     "output_type": "stream",
     "text": [
      "[2, 3, 4, 'a', 'b', 'c', 5, 6, 7, 8, 10]\n"
     ]
    }
   ],
   "source": [
    "# Problem 4\n",
    "a[3:3] = ['a', 'b', 'c']\n",
    "print(a)"
   ]
  },
  {
   "cell_type": "code",
   "execution_count": 9,
   "id": "00e9fcb2",
   "metadata": {},
   "outputs": [
    {
     "name": "stdout",
     "output_type": "stream",
     "text": [
      "[2, 3, 4, 'a', 'b', 'c', 5, 6, 7, 8, 10]\n"
     ]
    }
   ],
   "source": [
    "# Problem 5\n",
    "a = a\n",
    "print(a)"
   ]
  },
  {
   "cell_type": "code",
   "execution_count": 10,
   "id": "d776ba2e",
   "metadata": {},
   "outputs": [
    {
     "name": "stdout",
     "output_type": "stream",
     "text": [
      "[]\n"
     ]
    }
   ],
   "source": [
    "# Problem 6\n",
    "a[0:0] = []\n",
    "print(a[0:0])"
   ]
  },
  {
   "cell_type": "code",
   "execution_count": 11,
   "id": "b2214051",
   "metadata": {},
   "outputs": [
    {
     "name": "stdout",
     "output_type": "stream",
     "text": [
      "[10, 8, 7, 6, 5, 'c', 'b', 'a', 4, 3, 2]\n"
     ]
    }
   ],
   "source": [
    "# Problem 7\n",
    "print(a[::-1])"
   ]
  },
  {
   "cell_type": "code",
   "execution_count": 12,
   "id": "f232b446",
   "metadata": {},
   "outputs": [
    {
     "name": "stdout",
     "output_type": "stream",
     "text": [
      "[2, 3, 4]\n"
     ]
    }
   ],
   "source": [
    "# Problem 8\n",
    "print(a[0:3])"
   ]
  },
  {
   "cell_type": "code",
   "execution_count": 13,
   "id": "9b3371f6",
   "metadata": {},
   "outputs": [
    {
     "name": "stdout",
     "output_type": "stream",
     "text": [
      "[4, 'a', 'b', 'c', 5, 6, 7, 8, 10]\n"
     ]
    }
   ],
   "source": [
    "# Problem 9\n",
    "print(a[2:])"
   ]
  },
  {
   "cell_type": "code",
   "execution_count": 14,
   "id": "24d651fd",
   "metadata": {},
   "outputs": [
    {
     "name": "stdout",
     "output_type": "stream",
     "text": [
      "[2, 'b', 'c', 5, 6, 7, 8, 10]\n"
     ]
    }
   ],
   "source": [
    "# Problem 10\n",
    "a[1:4] = []\n",
    "print(a)"
   ]
  },
  {
   "cell_type": "code",
   "execution_count": 15,
   "id": "6661a5ef",
   "metadata": {},
   "outputs": [
    {
     "name": "stdout",
     "output_type": "stream",
     "text": [
      "['b', 'c', 5]\n"
     ]
    }
   ],
   "source": [
    "# Problem 11\n",
    "print(a[1:4])"
   ]
  },
  {
   "cell_type": "code",
   "execution_count": 16,
   "id": "c2d68f70",
   "metadata": {},
   "outputs": [
    {
     "name": "stdout",
     "output_type": "stream",
     "text": [
      "[2, 'b', 'c', 5, 6, 7, 8, 'b', 'c', 5, 6, 7, 8, 10, 12, 14, 16, 18, 20]\n"
     ]
    }
   ],
   "source": [
    "# Problem 12\n",
    "a[-1:] = a[1:] + [12, 14, 16, 18, 20]\n",
    "print(a)"
   ]
  },
  {
   "cell_type": "code",
   "execution_count": null,
   "id": "403e7177",
   "metadata": {},
   "outputs": [],
   "source": []
  }
 ],
 "metadata": {
  "kernelspec": {
   "display_name": "Python 3 (ipykernel)",
   "language": "python",
   "name": "python3"
  },
  "language_info": {
   "codemirror_mode": {
    "name": "ipython",
    "version": 3
   },
   "file_extension": ".py",
   "mimetype": "text/x-python",
   "name": "python",
   "nbconvert_exporter": "python",
   "pygments_lexer": "ipython3",
   "version": "3.11.3"
  }
 },
 "nbformat": 4,
 "nbformat_minor": 5
}
